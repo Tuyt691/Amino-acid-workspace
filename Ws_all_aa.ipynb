{
 "cells": [
  {
   "cell_type": "markdown",
   "metadata": {},
   "source": [
    "# Workspaces of all amino acids"
   ]
  },
  {
   "cell_type": "code",
   "execution_count": 1,
   "metadata": {},
   "outputs": [],
   "source": [
    "import amino_acid as aa\n",
    "import importlib\n",
    "importlib.reload(aa)\n",
    "import math"
   ]
  },
  {
   "cell_type": "markdown",
   "metadata": {},
   "source": [
    "## Linear amino acid"
   ]
  },
  {
   "cell_type": "markdown",
   "metadata": {},
   "source": [
    "### Glycine"
   ]
  },
  {
   "cell_type": "code",
   "execution_count": null,
   "metadata": {},
   "outputs": [],
   "source": [
    "glycine = aa.Amino_acid(id = \"gly\", hydrogens = False)\n",
    "\n",
    "fig = glycine.plot_aa_static()\n",
    "fig.show()\n",
    "\n",
    "ws_gly = glycine.plot_workspace()\n",
    "ws_gly.show()"
   ]
  },
  {
   "cell_type": "markdown",
   "metadata": {},
   "source": [
    "### Alanine"
   ]
  },
  {
   "cell_type": "code",
   "execution_count": null,
   "metadata": {},
   "outputs": [],
   "source": [
    "alanine = aa.Amino_acid(id = \"ala\", hydrogens = False)\n",
    "\n",
    "fig = alanine.plot_aa_static()\n",
    "fig.show()\n",
    "\n",
    "ws_ala = alanine.plot_workspace()\n",
    "ws_ala.show()"
   ]
  },
  {
   "cell_type": "markdown",
   "metadata": {},
   "source": [
    "### Lysine"
   ]
  },
  {
   "cell_type": "code",
   "execution_count": null,
   "metadata": {},
   "outputs": [],
   "source": [
    "lysine = aa.Amino_acid(id = \"lys\", hydrogens = False)\n",
    "\n",
    "fig = lysine.plot_aa_static(dih_angles=[math.radians(-176.9), math.radians(177.3), math.radians(177.1), math.radians(172.8)])\n",
    "fig.show()\n",
    "\n",
    "ws_lys = lysine.plot_workspace(static_dih_ang= [math.radians(-176.9), math.radians(177.3), math.radians(177.1), math.radians(172.8)], len_dih_angles=[10, 10, 10, 40])\n",
    "ws_lys.show()"
   ]
  },
  {
   "cell_type": "markdown",
   "metadata": {},
   "source": [
    "### Cysteine"
   ]
  },
  {
   "cell_type": "code",
   "execution_count": null,
   "metadata": {},
   "outputs": [],
   "source": [
    "cysteine = aa.Amino_acid(id = \"cys\", hydrogens = False)\n",
    "\n",
    "fig = cysteine.plot_aa_static(dih_angles=[math.radians(-173.8)])\n",
    "fig.show()\n",
    "\n",
    "ws_cys = cysteine.plot_workspace(static_dih_ang= [math.radians(-173.8)], len_dih_angles=[80])\n",
    "ws_cys.show()"
   ]
  },
  {
   "cell_type": "markdown",
   "metadata": {},
   "source": [
    "### Serine"
   ]
  },
  {
   "cell_type": "code",
   "execution_count": null,
   "metadata": {},
   "outputs": [],
   "source": [
    "serine = aa.Amino_acid(id = \"ser\", hydrogens = False)\n",
    "\n",
    "fig = serine.plot_aa_static(dih_angles=[math.radians(69.4)])\n",
    "fig.show()\n",
    "\n",
    "ws_ser = serine.plot_workspace(static_dih_ang= [math.radians(69.4)], len_dih_angles=[80])  \n",
    "ws_ser.show()"
   ]
  },
  {
   "cell_type": "markdown",
   "metadata": {},
   "source": [
    "### Methionine"
   ]
  },
  {
   "cell_type": "code",
   "execution_count": null,
   "metadata": {},
   "outputs": [],
   "source": [
    "methionine = aa.Amino_acid(id = \"met\", hydrogens = False)\n",
    "\n",
    "fig = methionine.plot_aa_static(dih_angles=[math.radians(-64.6), math.radians(-170), math.radians(-167.2)])\n",
    "fig.show()\n",
    "\n",
    "ws_met = methionine.plot_workspace(static_dih_ang= [math.radians(-64.6), math.radians(-170), math.radians(-167.2)], len_dih_angles=[7, 8, 50])\n",
    "ws_met.show()"
   ]
  },
  {
   "cell_type": "markdown",
   "metadata": {},
   "source": [
    "## Branched amino acid"
   ]
  },
  {
   "cell_type": "code",
   "execution_count": null,
   "metadata": {},
   "outputs": [],
   "source": [
    "importlib.reload(aa)"
   ]
  },
  {
   "cell_type": "markdown",
   "metadata": {},
   "source": [
    "### Isoleucine"
   ]
  },
  {
   "cell_type": "code",
   "execution_count": null,
   "metadata": {},
   "outputs": [],
   "source": [
    "isoleucine = aa.Amino_acid(id = \"ile\", hydrogens = False)\n",
    "\n",
    "fig = isoleucine.plot_aa_static(dih_angles=[math.radians(-52.1), math.radians(166.6)])\n",
    "fig.show()\n",
    "\n",
    "ws_ile = isoleucine.plot_workspace(static_dih_ang= [math.radians(-52.1), math.radians(-170)], len_dih_angles=[15, 70])\n",
    "ws_ile.show()"
   ]
  },
  {
   "cell_type": "markdown",
   "metadata": {},
   "source": [
    "### Leucine"
   ]
  },
  {
   "cell_type": "code",
   "execution_count": null,
   "metadata": {},
   "outputs": [],
   "source": [
    "leucine = aa.Amino_acid(id = \"leu\", hydrogens = False)\n",
    "\n",
    "fig = leucine.plot_aa_static(dih_angles=[math.radians(-57.8), math.radians(-175.5)])\n",
    "fig.show()\n",
    "\n",
    "ws_ile = leucine.plot_workspace(static_dih_ang= [math.radians(-57.8), math.radians(-175.5)], len_dih_angles=[15, 70])\n",
    "ws_ile.show()"
   ]
  },
  {
   "cell_type": "markdown",
   "metadata": {},
   "source": [
    "### Valine"
   ]
  },
  {
   "cell_type": "code",
   "execution_count": null,
   "metadata": {},
   "outputs": [],
   "source": [
    "valine = aa.Amino_acid(id = \"val\", hydrogens = False)\n",
    "\n",
    "fig = valine.plot_aa_static(dih_angles=[math.radians(172.3)])\n",
    "fig.show()\n",
    "\n",
    "ws_ile = valine.plot_workspace(static_dih_ang= [math.radians(172.3)], len_dih_angles=[60])\n",
    "ws_ile.show()"
   ]
  },
  {
   "cell_type": "markdown",
   "metadata": {},
   "source": [
    "### Aspartic acid"
   ]
  },
  {
   "cell_type": "code",
   "execution_count": null,
   "metadata": {},
   "outputs": [],
   "source": [
    "asp_acid = aa.Amino_acid(id = \"asp\", hydrogens = False)\n",
    "\n",
    "fig = asp_acid.plot_aa_static(dih_angles=[math.radians(-72.7), math.radians(-12.5)])\n",
    "fig.show()\n",
    "\n",
    "ws_asp = asp_acid.plot_workspace(static_dih_ang= [math.radians(-72.7), math.radians(-12.5)], len_dih_angles=[15, 40])\n",
    "ws_asp.show()"
   ]
  },
  {
   "cell_type": "markdown",
   "metadata": {},
   "source": [
    "### Glutamic acid"
   ]
  },
  {
   "cell_type": "code",
   "execution_count": null,
   "metadata": {},
   "outputs": [],
   "source": [
    "glu_acid = aa.Amino_acid(id = \"glu\", hydrogens = False)\n",
    "\n",
    "fig = glu_acid.plot_aa_static(dih_angles=[math.radians(-68), math.radians(178), math.radians(-2.2)])\n",
    "fig.show()\n",
    "\n",
    "ws_asp = glu_acid.plot_workspace(static_dih_ang= [math.radians(-68), math.radians(178), math.radians(-2.2)], len_dih_angles=[10, 10, 40])\n",
    "ws_asp.show()"
   ]
  },
  {
   "cell_type": "markdown",
   "metadata": {},
   "source": [
    "### Arginine"
   ]
  },
  {
   "cell_type": "code",
   "execution_count": null,
   "metadata": {},
   "outputs": [],
   "source": [
    "arginine = aa.Amino_acid(id = \"arg\", hydrogens = False)\n",
    "\n",
    "fig = arginine.plot_aa_static(dih_angles=[math.radians(-68.3), math.radians(179.3), math.radians(-179), math.radians(176.3), math.radians(0)])\n",
    "fig.show()\n",
    "\n",
    "ws_arg = arginine.plot_workspace(static_dih_ang= [math.radians(-68.3), math.radians(179.3), math.radians(-179), math.radians(176.3), math.radians(0)], len_dih_angles=[5, 5, 6, 6, 18])\n",
    "ws_arg.show()"
   ]
  },
  {
   "cell_type": "markdown",
   "metadata": {},
   "source": [
    "### Threonine"
   ]
  },
  {
   "cell_type": "code",
   "execution_count": null,
   "metadata": {},
   "outputs": [],
   "source": [
    "threonine = aa.Amino_acid(id = \"thr\", hydrogens = False)\n",
    "\n",
    "fig = threonine.plot_aa_static(dih_angles=[math.radians(60.5)])\n",
    "fig.show()\n",
    "\n",
    "ws_thr = threonine.plot_workspace(static_dih_ang= [math.radians(60.5)], len_dih_angles=[50])\n",
    "ws_thr.show()"
   ]
  },
  {
   "cell_type": "markdown",
   "metadata": {},
   "source": [
    "### Asparagine"
   ]
  },
  {
   "cell_type": "code",
   "execution_count": null,
   "metadata": {},
   "outputs": [],
   "source": [
    "asparagine = aa.Amino_acid(id = \"asn\", hydrogens = False)\n",
    "\n",
    "fig = asparagine.plot_aa_static(dih_angles=[math.radians(-71), math.radians(-23)])\n",
    "fig.show()\n",
    "\n",
    "ws_asn = asparagine.plot_workspace(static_dih_ang= [math.radians(-71), math.radians(-23)], len_dih_angles=[15, 50])\n",
    "ws_asn.show()"
   ]
  },
  {
   "cell_type": "markdown",
   "metadata": {},
   "source": [
    "### Glutamine"
   ]
  },
  {
   "cell_type": "code",
   "execution_count": null,
   "metadata": {},
   "outputs": [],
   "source": [
    "glutamine = aa.Amino_acid(id = \"gln\", hydrogens = False)\n",
    "\n",
    "fig = glutamine.plot_aa_static(dih_angles=[math.radians(-71), math.radians(177), math.radians(-1.1)])\n",
    "fig.show()\n",
    "\n",
    "ws_asn = glutamine.plot_workspace(static_dih_ang= [math.radians(-71), math.radians(177), math.radians(-1.1)], len_dih_angles=[7, 7, 40])\n",
    "ws_asn.show()"
   ]
  },
  {
   "cell_type": "markdown",
   "metadata": {},
   "source": [
    "## Aromatic"
   ]
  },
  {
   "cell_type": "code",
   "execution_count": null,
   "metadata": {},
   "outputs": [],
   "source": [
    "importlib.reload(aa)"
   ]
  },
  {
   "cell_type": "markdown",
   "metadata": {},
   "source": [
    "### Tryptophan"
   ]
  },
  {
   "cell_type": "code",
   "execution_count": null,
   "metadata": {},
   "outputs": [],
   "source": [
    "tryptophan = aa.Amino_acid(id = 'trp')\n",
    "\n",
    "fig = tryptophan.plot_aa_static(dih_angles=[math.radians(-68), math.radians(100)])\n",
    "fig.show()\n",
    "\n",
    "ws_trp = tryptophan.plot_workspace(static_dih_ang=[math.radians(-68), math.radians(100)], len_dih_angles=[10, 50])\n",
    "ws_trp.show()"
   ]
  },
  {
   "cell_type": "markdown",
   "metadata": {},
   "source": [
    "### Phenylalanine"
   ]
  },
  {
   "cell_type": "code",
   "execution_count": null,
   "metadata": {},
   "outputs": [],
   "source": [
    "phenylalanine = aa.Amino_acid(id = 'phe')\n",
    "\n",
    "fig = phenylalanine.plot_aa_static(dih_angles=[math.radians(-68), math.radians(100)])\n",
    "fig.show()\n",
    "\n",
    "ws_phe = phenylalanine.plot_workspace(static_dih_ang=[math.radians(-68), math.radians(100)], len_dih_angles=[10, 50])\n",
    "ws_phe.show()"
   ]
  },
  {
   "cell_type": "markdown",
   "metadata": {},
   "source": [
    "### Proline"
   ]
  },
  {
   "cell_type": "code",
   "execution_count": null,
   "metadata": {},
   "outputs": [],
   "source": [
    "proline = aa.Amino_acid(id = 'pro')\n",
    "\n",
    "fig = proline.plot_aa_static(dih_angles=[math.radians(27.3), math.radians(-34.6)])\n",
    "fig.show()\n",
    "\n",
    "ws_pro = proline.plot_workspace()"
   ]
  },
  {
   "cell_type": "markdown",
   "metadata": {},
   "source": [
    "### Tyrosine"
   ]
  },
  {
   "cell_type": "code",
   "execution_count": null,
   "metadata": {},
   "outputs": [],
   "source": [
    "tyrosine = aa.Amino_acid(id = 'tyr')\n",
    "\n",
    "fig = tyrosine.plot_aa_static(dih_angles=[math.radians(-66.4), math.radians(98)])\n",
    "fig.show()\n",
    "\n",
    "ws_phe = tyrosine.plot_workspace(static_dih_ang=[math.radians(-66.4), math.radians(98)], len_dih_angles=[12, 30])\n",
    "ws_phe.show()"
   ]
  },
  {
   "cell_type": "markdown",
   "metadata": {},
   "source": [
    "### Histidine"
   ]
  },
  {
   "cell_type": "code",
   "execution_count": null,
   "metadata": {},
   "outputs": [],
   "source": [
    "histidine = aa.Amino_acid(id = 'his')\n",
    "\n",
    "fig = histidine.plot_aa_static(dih_angles=[math.radians(-66.4), math.radians(98)])\n",
    "fig.show()\n",
    "\n",
    "ws_his = histidine.plot_workspace(static_dih_ang=[math.radians(-66.4), math.radians(98)], len_dih_angles=[10, 50])\n",
    "ws_his.show()"
   ]
  }
 ],
 "metadata": {
  "kernelspec": {
   "display_name": "base",
   "language": "python",
   "name": "python3"
  },
  "language_info": {
   "codemirror_mode": {
    "name": "ipython",
    "version": 3
   },
   "file_extension": ".py",
   "mimetype": "text/x-python",
   "name": "python",
   "nbconvert_exporter": "python",
   "pygments_lexer": "ipython3",
   "version": "3.9.12"
  }
 },
 "nbformat": 4,
 "nbformat_minor": 2
}
